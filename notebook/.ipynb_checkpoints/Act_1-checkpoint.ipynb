{
 "cells": [
  {
   "cell_type": "code",
   "execution_count": null,
   "metadata": {},
   "outputs": [],
   "source": [
    "1. Análisis del Zen de Python\n",
    "Copie el texto del Zen de Python en una variable e imprima todas las líneas cuya segunda\n",
    "palabra comience con una vocal (A, E, I, O, U, a, e, i, o, u).\n",
    "El Zen de Python es una colección de principios que guían la filosofía de diseño de Python,\n",
    "escrita en forma de aforismos. Resalta la simplicidad, legibilidad y claridad en el código.\n",
    "Para verlo en Python, ejecute en la consola import this\n",
    "Para este punto debe colocar el contenido del Zen de python en una variable string:\n",
    "Salida esperada:\n",
    "2. Título más largo\n",
    "Dado un listado de títulos de streams en Twitch:\n",
    "Resolver problemas más complejos utilizando estructuras de datos adecuadas.\n",
    "Aplicar correctamente el uso de Jupyter Notebook.\n",
    "Desarrollar soluciones considerando dependencias y buenas prácticas.\n",
    "Realizar la práctica en un entorno de Jupyter Notebook.\n",
    "zen_text = \"\"\"Colocar aquí el Zen de Python\"\"\"\n",
    "Beautiful is better than ugly.\n",
    "Explicit is better than implicit.\n",
    "Simple is better than complex.\n",
    "Complex is better than complicated.\n",
    "... (otras líneas que cumplan la condición)"
   ]
  }
 ],
 "metadata": {
  "kernelspec": {
   "display_name": "venv",
   "language": "python",
   "name": "python3"
  },
  "language_info": {
   "name": "python",
   "version": "3.12.9"
  }
 },
 "nbformat": 4,
 "nbformat_minor": 2
}
