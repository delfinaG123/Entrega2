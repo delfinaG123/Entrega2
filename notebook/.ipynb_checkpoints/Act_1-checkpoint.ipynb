{
 "cells": [
  {
   "cell_type": "code",
   "execution_count": null,
   "metadata": {},
   "outputs": [],
   "source": [
    "1. Análisis del Zen de Python\n",
    "Copie el texto del Zen de Python en una variable e imprima todas las líneas cuya segunda\n",
    "palabra comience con una vocal (A, E, I, O, U, a, e, i, o, u).\n",
    "El Zen de Python es una colección de principios que guían la filosofía de diseño de Python,\n",
    "escrita en forma de aforismos. Resalta la simplicidad, legibilidad y claridad en el código.\n",
    "Para verlo en Python, ejecute en la consola import this\n",
    "Para este punto debe colocar el contenido del Zen de python en una variable string:\n",
    "Salida esperada:\n",
    "2. Título más largo\n",
    "Dado un listado de títulos de streams en Twitch:\n",
    "Resolver problemas más complejos utilizando estructuras de datos adecuadas.\n",
    "Aplicar correctamente el uso de Jupyter Notebook.\n",
    "Desarrollar soluciones considerando dependencias y buenas prácticas.\n",
    "Realizar la práctica en un entorno de Jupyter Notebook.\n",
    "zen_text = \"\"\"Colocar aquí el Zen de Python\"\"\"\n",
    "Beautiful is better than ugly.\n",
    "Explicit is better than implicit.\n",
    "Simple is better than complex.\n",
    "Complex is better than complicated.\n",
    "... (otras líneas que cumplan la condición)"
   ]
  },
  {
   "cell_type": "code",
   "execution_count": 4,
   "metadata": {},
   "outputs": [
    {
     "name": "stdout",
     "output_type": "stream",
     "text": [
      "'Beautiful is better than ugly.'\n",
      "'Explicit is better than implicit.'\n",
      "'Simple is better than complex.'\n",
      "'Complex is better than complicated.'\n",
      "'Flat is better than nested.'\n",
      "'Sparse is better than dense.'\n",
      "'Unless explicitly silenced.'\n",
      "'Now is better than never.'\n",
      "\"Namespaces are one honking great idea -- let's do more of those! \"\n"
     ]
    }
   ],
   "source": [
    "import pprint\n",
    "zen_text = \"\"\"\n",
    "\n",
    "Beautiful is better than ugly.\n",
    "Explicit is better than implicit.\n",
    "Simple is better than complex.\n",
    "Complex is better than complicated.\n",
    "Flat is better than nested.\n",
    "Sparse is better than dense.\n",
    "Readability counts.\n",
    "Special cases aren't special enough to break the rules.\n",
    "Although practicality beats purity.\n",
    "Errors should never pass silently.\n",
    "Unless explicitly silenced.\n",
    "In the face of ambiguity, refuse the temptation to guess.\n",
    "There should be one-- and preferably only one --obvious way to do it.\n",
    "Although that way may not be obvious at first unless you're Dutch.\n",
    "Now is better than never.\n",
    "Although never is often better than *right* now.\n",
    "If the implementation is hard to explain, it's a bad idea.\n",
    "If the implementation is easy to explain, it may be a good idea.\n",
    "Namespaces are one honking great idea -- let's do more of those! \n",
    "\n",
    "\"\"\"\n",
    "\n",
    "zen_list = zen_text.splitlines()\n",
    "\n",
    "for elem in zen_list:\n",
    "    words = elem.lower().split()  # Convertir a minúsculas y dividir la línea en palabras\n",
    "    if words and words[1].startswith(('a', 'e', 'i', 'o', 'u')):  # Verificar que hay palabras y que la primera empieza con vocal\n",
    "        pprint.pprint(elem)"
   ]
  }
 ],
 "metadata": {
  "kernelspec": {
   "display_name": "venv",
   "language": "python",
   "name": "python3"
  },
  "language_info": {
   "codemirror_mode": {
    "name": "ipython",
    "version": 3
   },
   "file_extension": ".py",
   "mimetype": "text/x-python",
   "name": "python",
   "nbconvert_exporter": "python",
   "pygments_lexer": "ipython3",
   "version": "3.12.9"
  }
 },
 "nbformat": 4,
 "nbformat_minor": 2
}
